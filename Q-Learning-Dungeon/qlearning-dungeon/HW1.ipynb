{
 "cells": [
  {
   "cell_type": "code",
   "execution_count": 1,
   "metadata": {},
   "outputs": [],
   "source": [
    "import pandas as pd\n",
    "import matplotlib.pyplot as plt"
   ]
  },
  {
   "cell_type": "code",
   "execution_count": 3,
   "metadata": {},
   "outputs": [
    {
     "name": "stdout",
     "output_type": "stream",
     "text": [
      "{\"step\": 0, \"performance\": 0.0, \"total_reward\": 0}\n",
      "\n",
      "\n",
      "Final Q-table\n",
      "    0  1  2  3  4\n",
      "0  0  4  0  0  0\n",
      "1  0  0  4  0  0\n",
      "{\"step\": 0, \"performance\": 0.0, \"total_reward\": 0}\n",
      "\n",
      "\n",
      "Final Q-table\n",
      "         0    1        2       3  4\n",
      "0  0.6125  0.0  0.00000  0.0000  0\n",
      "1  0.0000  0.5  1.36015  1.2401  0\n",
      "{\"step\": 0, \"performance\": 0.0, \"total_reward\": 0}\n",
      "\n",
      "\n",
      "Final Q-table\n",
      " Empty DataFrame\n",
      "Columns: []\n",
      "Index: []\n"
     ]
    }
   ],
   "source": [
    "!python train.py --agent=ACCOUNTANT --iterations=10\n",
    "!python train.py --agent=GAMBLER --iterations=10\n",
    "!python train.py --agent=DRUNKARD --iterations=10"
   ]
  },
  {
   "cell_type": "code",
   "execution_count": null,
   "metadata": {},
   "outputs": [],
   "source": []
  }
 ],
 "metadata": {
  "kernelspec": {
   "display_name": "Python 3.9.0 64-bit",
   "language": "python",
   "name": "python3"
  },
  "language_info": {
   "codemirror_mode": {
    "name": "ipython",
    "version": 3
   },
   "file_extension": ".py",
   "mimetype": "text/x-python",
   "name": "python",
   "nbconvert_exporter": "python",
   "pygments_lexer": "ipython3",
   "version": "3.9.0"
  },
  "orig_nbformat": 4,
  "vscode": {
   "interpreter": {
    "hash": "967fc193b3f5c80a6afb13ff7c568801143a5d26fe7e349631bad703b53dfca9"
   }
  }
 },
 "nbformat": 4,
 "nbformat_minor": 2
}
